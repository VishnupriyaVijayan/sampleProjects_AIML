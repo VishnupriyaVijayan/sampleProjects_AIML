{
 "cells": [
  {
   "cell_type": "code",
   "execution_count": 1,
   "id": "37346243",
   "metadata": {},
   "outputs": [],
   "source": [
    "import numpy as np\n",
    "import imutils\n",
    "import cv2\n",
    "import time"
   ]
  },
  {
   "cell_type": "code",
   "execution_count": null,
   "id": "2e6e86b6",
   "metadata": {},
   "outputs": [
    {
     "name": "stdout",
     "output_type": "stream",
     "text": [
      "Loading model...\n",
      "Model Loaded\n",
      "Starting Camera Feed...\n"
     ]
    }
   ],
   "source": [
    "prototxt = \"MobileNetSSD_deploy.prototxt.txt\"\n",
    "model = \"MobileNetSSD_deploy.caffemodel\"\n",
    "conf_thresh = 0.2\n",
    "\n",
    "CLASSES = [\"background\", \"aeroplane\", \"bicycle\", \"bird\", \"boat\", \"bottle\", \"bus\", \"car\", \"cat\", \"chair\",\n",
    "           \"cow\", \"diningtable\", \"dog\", \"horse\", \"motorbike\", \"person\", \"pottedplant\", \"sheep\", \"sofa\", \"train\", \"tvmonitor\"]\n",
    "COLORS = np.random.uniform(0, 255, size=(len(CLASSES), 3))\n",
    "\n",
    "print(\"Loading model...\")\n",
    "net = cv2.dnn.readNetFromCaffe(prototxt, model)\n",
    "print(\"Model Loaded\")\n",
    "print(\"Starting Camera Feed...\")\n",
    "\n",
    "vs = cv2.VideoCapture(0)\n",
    "time.sleep(2.0)\n",
    "\n",
    "while True:\n",
    "    _, frame = vs.read()\n",
    "    frame = imutils.resize(frame, width=500)\n",
    "    (h, w) = frame.shape[:2]\n",
    "    im_resize_blob = cv2.resize(frame, (300, 300))\n",
    "    blob = cv2.dnn.blobFromImage(im_resize_blob, 0.007843, (300, 300), 127.5)\n",
    "    net.setInput(blob)\n",
    "    detections = net.forward()\n",
    "    det_shape = detections.shape[2]\n",
    "\n",
    "    # Flag to check if a bottle is detected\n",
    "    bottle_detected = False\n",
    "\n",
    "    for i in np.arange(0, det_shape):\n",
    "        confidence = detections[0, 0, i, 2]\n",
    "        if confidence > conf_thresh:\n",
    "            idx = int(detections[0, 0, i, 1])\n",
    "            if CLASSES[idx] == \"bottle\":\n",
    "                bottle_detected = True\n",
    "                box = detections[0, 0, i, 3:7] * np.array([w, h, w, h])\n",
    "                (start_x, start_y, end_x, end_y) = box.astype(\"int\")\n",
    "                label = \"{}: {:.2f}%\".format(CLASSES[idx], confidence * 100)\n",
    "                cv2.rectangle(frame, (start_x, start_y), (end_x, end_y), COLORS[idx], 2)\n",
    "                y = start_y - 15 if start_y - 15 > 15 else start_y + 15\n",
    "                cv2.putText(frame, label, (start_x, y), cv2.FONT_HERSHEY_SIMPLEX, 0.5, COLORS[idx], 2)\n",
    "\n",
    "    # Print text if a bottle is detected\n",
    "    if bottle_detected:\n",
    "        cv2.putText(frame, \"I need Water\", (10, 30), cv2.FONT_HERSHEY_SIMPLEX, 1, (0, 255, 0), 2)\n",
    "\n",
    "    cv2.imshow(\"Frame\", frame)\n",
    "    key = cv2.waitKey(1)\n",
    "    if key == 27:\n",
    "        break\n",
    "\n",
    "vs.release()\n",
    "cv2.destroyAllWindows()\n"
   ]
  },
  {
   "cell_type": "code",
   "execution_count": null,
   "id": "0f3844cd",
   "metadata": {},
   "outputs": [],
   "source": []
  }
 ],
 "metadata": {
  "kernelspec": {
   "display_name": "Python 3 (ipykernel)",
   "language": "python",
   "name": "python3"
  },
  "language_info": {
   "codemirror_mode": {
    "name": "ipython",
    "version": 3
   },
   "file_extension": ".py",
   "mimetype": "text/x-python",
   "name": "python",
   "nbconvert_exporter": "python",
   "pygments_lexer": "ipython3",
   "version": "3.9.13"
  },
  "varInspector": {
   "cols": {
    "lenName": 16,
    "lenType": 16,
    "lenVar": 40
   },
   "kernels_config": {
    "python": {
     "delete_cmd_postfix": "",
     "delete_cmd_prefix": "del ",
     "library": "var_list.py",
     "varRefreshCmd": "print(var_dic_list())"
    },
    "r": {
     "delete_cmd_postfix": ") ",
     "delete_cmd_prefix": "rm(",
     "library": "var_list.r",
     "varRefreshCmd": "cat(var_dic_list()) "
    }
   },
   "types_to_exclude": [
    "module",
    "function",
    "builtin_function_or_method",
    "instance",
    "_Feature"
   ],
   "window_display": false
  }
 },
 "nbformat": 4,
 "nbformat_minor": 5
}
