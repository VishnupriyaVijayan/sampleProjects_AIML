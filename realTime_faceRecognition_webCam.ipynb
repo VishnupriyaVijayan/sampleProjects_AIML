{
 "cells": [
  {
   "cell_type": "code",
   "execution_count": 2,
   "id": "e249e15b",
   "metadata": {},
   "outputs": [],
   "source": [
    "import cv2\n",
    "import os\n",
    "import numpy as np\n",
    "import warnings\n",
    "warnings.filterwarnings(\"ignore\", category=np.VisibleDeprecationWarning)\n"
   ]
  },
  {
   "cell_type": "code",
   "execution_count": 3,
   "id": "66fc02e6",
   "metadata": {},
   "outputs": [],
   "source": [
    "\n",
    "haar_file = 'haarcascade_frontalface_default.xml'\n",
    "face_cascade = cv2.CascadeClassifier(haar_file)\n",
    "datasets = 'datasets'\n",
    "\n",
    "# Initialize variables\n",
    "images = []\n",
    "labels = []\n",
    "names = {}\n",
    "id = 0\n"
   ]
  },
  {
   "cell_type": "code",
   "execution_count": 4,
   "id": "3e216fbf",
   "metadata": {},
   "outputs": [
    {
     "name": "stdout",
     "output_type": "stream",
     "text": [
      "[0 0 0 0 0 0 0 0 0 0 0 0 0 0 0 0 0 0 0 0 0 0 0 0 0 0 0 0 0 0 0 0 0 0 0 0 0\n",
      " 0 0 0 0 0 0 0 0 0 0 0 0 1 1 1 1 1 1 1 1 1 1 1 1 1 1 1 1 1 1 1 1 1 1 1 1 1\n",
      " 1 1 1 1 1 1 1 1 1 1 1 1 1 1 1 1 1 1 1 1 1 1 1 1 1 1 1 1 1 1 1 1 1 1 1 1 1\n",
      " 1 1 1 1 1 1 2 2 2 2 2 2 2 2 2 2 2 2 2 2 2 2 2 2 2 2 2 2 2 2 2 2 2 2 2 2 2\n",
      " 2 2 2 2 2 2 2 2 2 2 2 2 2 2 2 2 2 2 2 2 2 2 2 2 2 2 2 2 2 2 2 2 2 2 2 2 2\n",
      " 2 2 2 2 2 2 2 2 2 2 2 2 2 2 2 2 2 2 2 2 2 2 2 2 2 2 2 2 2 2 2 2 2 3 3 3 3\n",
      " 3 3 3 3 3 3 3 3 3 3 3 3 3 3 3 3 3 3 3 3 3 3 3 3 3 3 3 3 3 3 3 3 3 3 3 3 3\n",
      " 3]\n"
     ]
    }
   ],
   "source": [
    "for (subdirs, dirs, files) in os.walk(datasets):\n",
    "    for subdir in dirs:\n",
    "        names[id] = subdir\n",
    "        subjectpath = os.path.join(datasets, subdir)\n",
    "        for filename in os.listdir(subjectpath):\n",
    "            path = os.path.join(subjectpath, filename)\n",
    "            label = id\n",
    "            images.append(cv2.imread(path, 0))\n",
    "            labels.append(int(label))\n",
    "        id += 1\n",
    "\n",
    "# Specify dtype=object when creating the NumPy array\n",
    "(images, labels) = [np.array(lis) for lis in [images, labels]]\n",
    "\n",
    "print(labels)"
   ]
  },
  {
   "cell_type": "code",
   "execution_count": 5,
   "id": "4ea333df",
   "metadata": {},
   "outputs": [],
   "source": [
    "(width, height) = (130, 100)\n",
    "model =cv2.face_LBPHFaceRecognizer.create()\n",
    "#model =  cv2.face.FisherFaceRecognizer_create()"
   ]
  },
  {
   "cell_type": "code",
   "execution_count": 7,
   "id": "1e05907c",
   "metadata": {},
   "outputs": [
    {
     "data": {
      "text/plain": [
       "((260,), (260,))"
      ]
     },
     "execution_count": 7,
     "metadata": {},
     "output_type": "execute_result"
    }
   ],
   "source": [
    "labels.shape,images.shape"
   ]
  },
  {
   "cell_type": "code",
   "execution_count": 8,
   "id": "ed4cae5d",
   "metadata": {},
   "outputs": [],
   "source": [
    "model.train(images, labels)\n"
   ]
  },
  {
   "cell_type": "code",
   "execution_count": null,
   "id": "a1c80ae5",
   "metadata": {},
   "outputs": [],
   "source": [
    "webcam = cv2.VideoCapture(0)\n",
    "cnt=0\n",
    "\n",
    "while True:\n",
    "    (_, im) = webcam.read()\n",
    "    gray = cv2.cvtColor(im, cv2.COLOR_BGR2GRAY)\n",
    "    faces = face_cascade.detectMultiScale(gray, 1.3, 5)\n",
    "    for (x,y,w,h) in faces:\n",
    "        cv2.rectangle(im,(x,y),(x+w,y+h),(255,255,0),2)\n",
    "        face = gray[y:y + h, x:x + w]\n",
    "        face_resize = cv2.resize(face, (width, height))\n",
    "\n",
    "        prediction = model.predict(face_resize)\n",
    "        cv2.rectangle(im, (x, y), (x + w, y + h), (0, 255, 0), 3)\n",
    "        if prediction[1]<800:\n",
    "            cv2.putText(im,'%s - %.0f' % (names[prediction[0]],prediction[1]),(x-10, y-10), cv2.FONT_HERSHEY_PLAIN,2,(0, 0, 255))\n",
    "            print (names[prediction[0]])\n",
    "            cnt=0\n",
    "        else:\n",
    "            cnt+=1\n",
    "            cv2.putText(im,'Unknown',(x-10, y-10), cv2.FONT_HERSHEY_PLAIN,1,(0, 255, 0))\n",
    "            if(cnt>100):\n",
    "                print(\"Unknown Person\")\n",
    "                cv2.imwrite(\"unKnown.jpg\",im)\n",
    "                cnt=0\n",
    "    cv2.imshow('FaceRecognition', im)\n",
    "    key = cv2.waitKey(1) & 0xFF\n",
    "    if key == ord(\"q\"):\n",
    "        break\n",
    "\n",
    "webcam.release()\n",
    "cv2.destroyAllWindows()\n",
    "\n",
    "\n",
    "\n",
    "\n"
   ]
  },
  {
   "cell_type": "code",
   "execution_count": null,
   "id": "32be2e2f",
   "metadata": {},
   "outputs": [],
   "source": []
  }
 ],
 "metadata": {
  "kernelspec": {
   "display_name": "Python 3 (ipykernel)",
   "language": "python",
   "name": "python3"
  },
  "language_info": {
   "codemirror_mode": {
    "name": "ipython",
    "version": 3
   },
   "file_extension": ".py",
   "mimetype": "text/x-python",
   "name": "python",
   "nbconvert_exporter": "python",
   "pygments_lexer": "ipython3",
   "version": "3.9.13"
  },
  "varInspector": {
   "cols": {
    "lenName": 16,
    "lenType": 16,
    "lenVar": 40
   },
   "kernels_config": {
    "python": {
     "delete_cmd_postfix": "",
     "delete_cmd_prefix": "del ",
     "library": "var_list.py",
     "varRefreshCmd": "print(var_dic_list())"
    },
    "r": {
     "delete_cmd_postfix": ") ",
     "delete_cmd_prefix": "rm(",
     "library": "var_list.r",
     "varRefreshCmd": "cat(var_dic_list()) "
    }
   },
   "types_to_exclude": [
    "module",
    "function",
    "builtin_function_or_method",
    "instance",
    "_Feature"
   ],
   "window_display": false
  }
 },
 "nbformat": 4,
 "nbformat_minor": 5
}
