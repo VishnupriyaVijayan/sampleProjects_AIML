{
 "cells": [
  {
   "cell_type": "code",
   "execution_count": 2,
   "id": "3af8c639",
   "metadata": {},
   "outputs": [
    {
     "name": "stdout",
     "output_type": "stream",
     "text": [
      "[*]Warning: Your device have GPU, for better performance do EmotionRecognition(device=gpu)\n",
      "[*] Accuracy: 0.9565809379727686\n",
      "No face detected\n",
      "No face detected\n",
      "No face detected\n",
      "No face detected\n",
      "No face detected\n",
      "No face detected\n",
      "No face detected\n",
      "No face detected\n",
      "No face detected\n",
      "No face detected\n",
      "No face detected\n",
      "No face detected\n",
      "No face detected\n",
      "No face detected\n",
      "No face detected\n",
      "No face detected\n",
      "No face detected\n",
      "No face detected\n",
      "No face detected\n",
      "No face detected\n",
      "No face detected\n",
      "No face detected\n",
      "No face detected\n",
      "No face detected\n",
      "No face detected\n",
      "No face detected\n",
      "No face detected\n",
      "No face detected\n",
      "No face detected\n",
      "No face detected\n",
      "No face detected\n",
      "No face detected\n",
      "No face detected\n",
      "No face detected\n",
      "No face detected\n",
      "No face detected\n",
      "No face detected\n",
      "No face detected\n",
      "No face detected\n",
      "No face detected\n",
      "No face detected\n"
     ]
    }
   ],
   "source": [
    "from facial_emotion_recognition import EmotionRecognition\n",
    "import cv2\n",
    "import numpy as np\n",
    "import urllib.request\n",
    "import imutils\n",
    "import warnings\n",
    "\n",
    "warnings.filterwarnings(\"ignore\", category=np.VisibleDeprecationWarning)\n",
    "\n",
    "# Load the pre-trained emotion recognition model\n",
    "er = EmotionRecognition(device='cpu')\n",
    "\n",
    "ip_camera_url = 'http://192.168.1.35:8080/shot.jpg'\n",
    "\n",
    "while True:\n",
    "    # Capture image from the IP camera\n",
    "    img_path = urllib.request.urlopen(ip_camera_url)\n",
    "    img_np = np.array(bytearray(img_path.read()), dtype=np.uint8)\n",
    "    img = cv2.imdecode(img_np, -1)\n",
    "\n",
    "    # Flip the image vertically\n",
    "    img = cv2.flip(img, 0)\n",
    "\n",
    "    # Resize the image for better processing\n",
    "    im = imutils.resize(img, width=400)\n",
    "\n",
    "    # Perform face emotion recognition\n",
    "    frame = er.recognise_emotion(im, return_type='BGR')\n",
    "\n",
    "    # Display the result\n",
    "    cv2.imshow('Emotion Recognition', frame)\n",
    "\n",
    "    key = cv2.waitKey(1) & 0xFF\n",
    "    if key == ord(\"q\"):\n",
    "        break\n",
    "\n",
    "cv2.destroyAllWindows()\n",
    "\n",
    "\n"
   ]
  },
  {
   "cell_type": "code",
   "execution_count": null,
   "id": "239b7716",
   "metadata": {},
   "outputs": [],
   "source": []
  }
 ],
 "metadata": {
  "kernelspec": {
   "display_name": "Python 3 (ipykernel)",
   "language": "python",
   "name": "python3"
  },
  "language_info": {
   "codemirror_mode": {
    "name": "ipython",
    "version": 3
   },
   "file_extension": ".py",
   "mimetype": "text/x-python",
   "name": "python",
   "nbconvert_exporter": "python",
   "pygments_lexer": "ipython3",
   "version": "3.9.13"
  },
  "varInspector": {
   "cols": {
    "lenName": 16,
    "lenType": 16,
    "lenVar": 40
   },
   "kernels_config": {
    "python": {
     "delete_cmd_postfix": "",
     "delete_cmd_prefix": "del ",
     "library": "var_list.py",
     "varRefreshCmd": "print(var_dic_list())"
    },
    "r": {
     "delete_cmd_postfix": ") ",
     "delete_cmd_prefix": "rm(",
     "library": "var_list.r",
     "varRefreshCmd": "cat(var_dic_list()) "
    }
   },
   "types_to_exclude": [
    "module",
    "function",
    "builtin_function_or_method",
    "instance",
    "_Feature"
   ],
   "window_display": false
  }
 },
 "nbformat": 4,
 "nbformat_minor": 5
}
