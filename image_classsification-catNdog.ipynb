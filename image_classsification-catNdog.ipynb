{
 "cells": [
  {
   "cell_type": "code",
   "execution_count": 1,
   "id": "59316640",
   "metadata": {},
   "outputs": [],
   "source": [
    "from keras.models import Sequential\n",
    "from keras.layers import Conv2D\n",
    "from keras.layers import MaxPooling2D\n",
    "from keras.layers import Flatten\n",
    "from keras.layers import Dense\n",
    "from keras.preprocessing.image import ImageDataGenerator"
   ]
  },
  {
   "cell_type": "code",
   "execution_count": 2,
   "id": "581371c8",
   "metadata": {},
   "outputs": [
    {
     "name": "stdout",
     "output_type": "stream",
     "text": [
      "Model: \"sequential\"\n",
      "_________________________________________________________________\n",
      " Layer (type)                Output Shape              Param #   \n",
      "=================================================================\n",
      " conv2d (Conv2D)             (None, 62, 62, 32)        896       \n",
      "                                                                 \n",
      " max_pooling2d (MaxPooling2D  (None, 31, 31, 32)       0         \n",
      " )                                                               \n",
      "                                                                 \n",
      " flatten (Flatten)           (None, 30752)             0         \n",
      "                                                                 \n",
      " dense (Dense)               (None, 128)               3936384   \n",
      "                                                                 \n",
      " dense_1 (Dense)             (None, 1)                 129       \n",
      "                                                                 \n",
      "=================================================================\n",
      "Total params: 3,937,409\n",
      "Trainable params: 3,937,409\n",
      "Non-trainable params: 0\n",
      "_________________________________________________________________\n"
     ]
    }
   ],
   "source": [
    "\n",
    "model = Sequential()\n",
    "model.add(Conv2D(32, (3, 3), input_shape = (64, 64, 3), activation = 'relu'))\n",
    "model.add(MaxPooling2D(pool_size = (2, 2)))\n",
    "model.add(Flatten())\n",
    "model.add(Dense(units = 128, activation = 'relu'))\n",
    "model.add(Dense(units = 1, activation = 'sigmoid'))\n",
    "\n",
    "model.compile(optimizer = 'adam', loss = 'binary_crossentropy', metrics = ['accuracy'])\n",
    "model.summary()\n",
    "\n"
   ]
  },
  {
   "cell_type": "code",
   "execution_count": 3,
   "id": "8490b897",
   "metadata": {},
   "outputs": [
    {
     "name": "stdout",
     "output_type": "stream",
     "text": [
      "Found 142 images belonging to 2 classes.\n",
      "Found 29 images belonging to 2 classes.\n"
     ]
    }
   ],
   "source": [
    "train_datagen = ImageDataGenerator(rescale = 1./255,\n",
    "                                   shear_range = 0.2,\n",
    "                                   zoom_range = 0.2,\n",
    "                                   horizontal_flip = True)\n",
    "val_datagen = ImageDataGenerator(rescale = 1./255)\n",
    "\n",
    "training_set = train_datagen.flow_from_directory('Datasets/train',\n",
    "                                                 target_size = (64, 64),\n",
    "                                                 batch_size = 8,\n",
    "                                                 class_mode = 'binary')\n",
    "val_set = val_datagen.flow_from_directory('Datasets/val',\n",
    "                                            target_size = (64, 64),\n",
    "                                            batch_size = 8,\n",
    "                                            class_mode = 'binary')\n",
    "\n"
   ]
  },
  {
   "cell_type": "code",
   "execution_count": 4,
   "id": "04b9381d",
   "metadata": {},
   "outputs": [
    {
     "name": "stdout",
     "output_type": "stream",
     "text": [
      "Epoch 1/50\n",
      "10/10 [==============================] - 13s 1s/step - loss: 2.7212 - accuracy: 0.4744 - val_loss: 0.9567 - val_accuracy: 0.5000\n",
      "Epoch 2/50\n",
      "10/10 [==============================] - 8s 769ms/step - loss: 0.8596 - accuracy: 0.4625 - val_loss: 0.5674 - val_accuracy: 0.6875\n",
      "Epoch 3/50\n",
      "10/10 [==============================] - 15s 2s/step - loss: 0.6727 - accuracy: 0.6026 - val_loss: 0.6713 - val_accuracy: 0.5000\n",
      "Epoch 4/50\n",
      "10/10 [==============================] - 40s 4s/step - loss: 0.6392 - accuracy: 0.7000 - val_loss: 0.6086 - val_accuracy: 0.5625\n",
      "Epoch 5/50\n",
      "10/10 [==============================] - 25s 3s/step - loss: 0.6177 - accuracy: 0.6923 - val_loss: 0.6591 - val_accuracy: 0.4375\n",
      "Epoch 6/50\n",
      "10/10 [==============================] - 5s 509ms/step - loss: 0.5989 - accuracy: 0.7436 - val_loss: 0.5910 - val_accuracy: 0.6875\n",
      "Epoch 7/50\n",
      "10/10 [==============================] - 7s 417ms/step - loss: 0.5804 - accuracy: 0.6795 - val_loss: 0.5107 - val_accuracy: 0.8125\n",
      "Epoch 8/50\n",
      "10/10 [==============================] - 8s 751ms/step - loss: 0.5375 - accuracy: 0.7500 - val_loss: 0.5804 - val_accuracy: 0.6875\n",
      "Epoch 9/50\n",
      "10/10 [==============================] - 9s 927ms/step - loss: 0.4871 - accuracy: 0.7875 - val_loss: 0.6079 - val_accuracy: 0.6250\n",
      "Epoch 10/50\n",
      "10/10 [==============================] - 12s 1s/step - loss: 0.5306 - accuracy: 0.7179 - val_loss: 0.5150 - val_accuracy: 0.6250\n",
      "Epoch 11/50\n",
      "10/10 [==============================] - 7s 693ms/step - loss: 0.5441 - accuracy: 0.7625 - val_loss: 0.5962 - val_accuracy: 0.6250\n",
      "Epoch 12/50\n",
      "10/10 [==============================] - 6s 645ms/step - loss: 0.4733 - accuracy: 0.7625 - val_loss: 0.7227 - val_accuracy: 0.6875\n",
      "Epoch 13/50\n",
      "10/10 [==============================] - 7s 732ms/step - loss: 0.4802 - accuracy: 0.7179 - val_loss: 0.5112 - val_accuracy: 0.7500\n",
      "Epoch 14/50\n",
      "10/10 [==============================] - 13s 1s/step - loss: 0.4149 - accuracy: 0.8205 - val_loss: 0.5766 - val_accuracy: 0.6875\n",
      "Epoch 15/50\n",
      "10/10 [==============================] - 7s 678ms/step - loss: 0.3739 - accuracy: 0.8250 - val_loss: 0.4890 - val_accuracy: 0.8125\n",
      "Epoch 16/50\n",
      "10/10 [==============================] - 7s 676ms/step - loss: 0.4936 - accuracy: 0.7625 - val_loss: 0.4099 - val_accuracy: 0.8125\n",
      "Epoch 17/50\n",
      "10/10 [==============================] - 11s 777ms/step - loss: 0.3922 - accuracy: 0.8125 - val_loss: 0.4868 - val_accuracy: 0.8125\n",
      "Epoch 18/50\n",
      "10/10 [==============================] - 9s 629ms/step - loss: 0.4693 - accuracy: 0.7692 - val_loss: 0.6140 - val_accuracy: 0.7500\n",
      "Epoch 19/50\n",
      "10/10 [==============================] - 6s 538ms/step - loss: 0.3995 - accuracy: 0.8077 - val_loss: 0.5639 - val_accuracy: 0.5625\n",
      "Epoch 20/50\n",
      "10/10 [==============================] - 11s 1s/step - loss: 0.4136 - accuracy: 0.8125 - val_loss: 0.4608 - val_accuracy: 0.7500\n",
      "Epoch 21/50\n",
      "10/10 [==============================] - 6s 652ms/step - loss: 0.3546 - accuracy: 0.8974 - val_loss: 0.4160 - val_accuracy: 0.8750\n",
      "Epoch 22/50\n",
      "10/10 [==============================] - 9s 667ms/step - loss: 0.3613 - accuracy: 0.8500 - val_loss: 0.5202 - val_accuracy: 0.7500\n",
      "Epoch 23/50\n",
      "10/10 [==============================] - 8s 854ms/step - loss: 0.3443 - accuracy: 0.8846 - val_loss: 0.4418 - val_accuracy: 0.7500\n",
      "Epoch 24/50\n",
      "10/10 [==============================] - 9s 752ms/step - loss: 0.3663 - accuracy: 0.8590 - val_loss: 0.4959 - val_accuracy: 0.8125\n",
      "Epoch 25/50\n",
      "10/10 [==============================] - 9s 876ms/step - loss: 0.3921 - accuracy: 0.8205 - val_loss: 0.4901 - val_accuracy: 0.8125\n",
      "Epoch 26/50\n",
      "10/10 [==============================] - 12s 1s/step - loss: 0.3471 - accuracy: 0.8846 - val_loss: 0.5110 - val_accuracy: 0.8125\n",
      "Epoch 27/50\n",
      "10/10 [==============================] - 6s 669ms/step - loss: 0.3137 - accuracy: 0.8846 - val_loss: 0.7186 - val_accuracy: 0.6250\n",
      "Epoch 28/50\n",
      "10/10 [==============================] - 15s 2s/step - loss: 0.3252 - accuracy: 0.8500 - val_loss: 0.5726 - val_accuracy: 0.6875\n",
      "Epoch 29/50\n",
      "10/10 [==============================] - 16s 2s/step - loss: 0.3307 - accuracy: 0.8590 - val_loss: 0.6196 - val_accuracy: 0.7500\n",
      "Epoch 30/50\n",
      "10/10 [==============================] - 10s 794ms/step - loss: 0.2411 - accuracy: 0.9231 - val_loss: 0.3442 - val_accuracy: 0.8750\n",
      "Epoch 31/50\n",
      "10/10 [==============================] - 10s 1s/step - loss: 0.2752 - accuracy: 0.8846 - val_loss: 0.4860 - val_accuracy: 0.8125\n",
      "Epoch 32/50\n",
      "10/10 [==============================] - 6s 516ms/step - loss: 0.2431 - accuracy: 0.9103 - val_loss: 0.3965 - val_accuracy: 0.8125\n",
      "Epoch 33/50\n",
      "10/10 [==============================] - 9s 552ms/step - loss: 0.2760 - accuracy: 0.8846 - val_loss: 0.3298 - val_accuracy: 0.8750\n",
      "Epoch 34/50\n",
      "10/10 [==============================] - 8s 873ms/step - loss: 0.2398 - accuracy: 0.9231 - val_loss: 0.6363 - val_accuracy: 0.8125\n",
      "Epoch 35/50\n",
      "10/10 [==============================] - 9s 971ms/step - loss: 0.2550 - accuracy: 0.8974 - val_loss: 0.5109 - val_accuracy: 0.8125\n",
      "Epoch 36/50\n",
      "10/10 [==============================] - 10s 1s/step - loss: 0.2882 - accuracy: 0.8590 - val_loss: 0.4160 - val_accuracy: 0.8750\n",
      "Epoch 37/50\n",
      "10/10 [==============================] - 12s 887ms/step - loss: 0.2320 - accuracy: 0.9250 - val_loss: 0.4217 - val_accuracy: 0.7500\n",
      "Epoch 38/50\n",
      "10/10 [==============================] - 12s 1s/step - loss: 0.2374 - accuracy: 0.9000 - val_loss: 0.4477 - val_accuracy: 0.6875\n",
      "Epoch 39/50\n",
      "10/10 [==============================] - 4s 354ms/step - loss: 0.2432 - accuracy: 0.9250 - val_loss: 0.2446 - val_accuracy: 0.8750\n",
      "Epoch 40/50\n",
      "10/10 [==============================] - 10s 1s/step - loss: 0.2063 - accuracy: 0.9250 - val_loss: 0.4584 - val_accuracy: 0.6875\n",
      "Epoch 41/50\n",
      "10/10 [==============================] - 10s 1s/step - loss: 0.1822 - accuracy: 0.9615 - val_loss: 0.4769 - val_accuracy: 0.8125\n",
      "Epoch 42/50\n",
      "10/10 [==============================] - 4s 399ms/step - loss: 0.1701 - accuracy: 0.9375 - val_loss: 0.6237 - val_accuracy: 0.7500\n",
      "Epoch 43/50\n",
      "10/10 [==============================] - 9s 922ms/step - loss: 0.1802 - accuracy: 0.9615 - val_loss: 0.6610 - val_accuracy: 0.7500\n",
      "Epoch 44/50\n",
      "10/10 [==============================] - 11s 1s/step - loss: 0.2397 - accuracy: 0.9250 - val_loss: 0.3904 - val_accuracy: 0.7500\n",
      "Epoch 45/50\n",
      "10/10 [==============================] - 10s 1s/step - loss: 0.1990 - accuracy: 0.9359 - val_loss: 0.5932 - val_accuracy: 0.7500\n",
      "Epoch 46/50\n",
      "10/10 [==============================] - 10s 675ms/step - loss: 0.1348 - accuracy: 0.9487 - val_loss: 0.5310 - val_accuracy: 0.7500\n",
      "Epoch 47/50\n",
      "10/10 [==============================] - 8s 865ms/step - loss: 0.1614 - accuracy: 0.9359 - val_loss: 0.2644 - val_accuracy: 0.9375\n",
      "Epoch 48/50\n",
      "10/10 [==============================] - 9s 925ms/step - loss: 0.1630 - accuracy: 0.9487 - val_loss: 0.5987 - val_accuracy: 0.7500\n",
      "Epoch 49/50\n",
      "10/10 [==============================] - 5s 523ms/step - loss: 0.2017 - accuracy: 0.9125 - val_loss: 0.5764 - val_accuracy: 0.8125\n",
      "Epoch 50/50\n",
      "10/10 [==============================] - 8s 827ms/step - loss: 0.2402 - accuracy: 0.9103 - val_loss: 0.3076 - val_accuracy: 0.8750\n"
     ]
    },
    {
     "data": {
      "text/plain": [
       "<keras.callbacks.History at 0x10e9b036970>"
      ]
     },
     "execution_count": 4,
     "metadata": {},
     "output_type": "execute_result"
    }
   ],
   "source": [
    "\n",
    "model.fit(training_set,\n",
    "          steps_per_epoch = 10,\n",
    "          epochs = 50,\n",
    "          validation_data = val_set,\n",
    "          validation_steps = 2)\n",
    "\n",
    "\n"
   ]
  },
  {
   "cell_type": "code",
   "execution_count": 5,
   "id": "2ab225e7",
   "metadata": {},
   "outputs": [
    {
     "name": "stdout",
     "output_type": "stream",
     "text": [
      "Saved model to disk\n"
     ]
    }
   ],
   "source": [
    "\n",
    "model_json = model.to_json()\n",
    "with open(\"model.json\", \"w\") as json_file:\n",
    "    json_file.write(model_json)\n",
    "model.save_weights(\"model.h5\")\n",
    "print(\"Saved model to disk\")"
   ]
  },
  {
   "cell_type": "code",
   "execution_count": 9,
   "id": "ce58a82d",
   "metadata": {},
   "outputs": [
    {
     "name": "stdout",
     "output_type": "stream",
     "text": [
      "Loaded model from disk\n"
     ]
    }
   ],
   "source": [
    "from keras.models import model_from_json\n",
    "import numpy as np\n",
    "from keras.preprocessing import image\n",
    "import os\n",
    "import numpy as np\n",
    "import tensorflow as tf\n",
    "from tensorflow.keras.preprocessing import image\n",
    "\n",
    "\n",
    "json_file = open('model.json', 'r')\n",
    "loaded_model_json = json_file.read()\n",
    "json_file.close()\n",
    "\n",
    "model = model_from_json(loaded_model_json)\n",
    "model.load_weights(\"model.h5\")\n",
    "print(\"Loaded model from disk\")\n",
    "\n",
    "\n",
    "\n",
    "# Assuming 'model' is already defined somewhere in your code\n",
    "\n",
    "def classify(img_file):\n",
    "    img_name = img_file\n",
    "    test_image = image.load_img(img_name, target_size=(64, 64))\n",
    "\n",
    "    test_image = image.img_to_array(test_image)\n",
    "    test_image = np.expand_dims(test_image, axis=0)\n",
    "    result = model.predict(test_image)\n",
    "\n",
    "    if result[0][0] == 1:\n",
    "        prediction = 'fox'\n",
    "    else:\n",
    "        prediction = 'cat'\n",
    "    print(prediction, img_name)\n",
    "\n"
   ]
  },
  {
   "cell_type": "code",
   "execution_count": 10,
   "id": "7eb981cb",
   "metadata": {},
   "outputs": [
    {
     "name": "stdout",
     "output_type": "stream",
     "text": [
      "1/1 [==============================] - 0s 56ms/step\n",
      "cat F:\\Jupyter_Notebook\\AI_INTERNSHIP\\day12\\Code\\Code\\Datasets\\test\\cat\\cat_188.jpeg\n",
      "1/1 [==============================] - 0s 21ms/step\n",
      "cat F:\\Jupyter_Notebook\\AI_INTERNSHIP\\day12\\Code\\Code\\Datasets\\test\\cat\\cat_1b5.jpeg\n",
      "1/1 [==============================] - 0s 22ms/step\n",
      "cat F:\\Jupyter_Notebook\\AI_INTERNSHIP\\day12\\Code\\Code\\Datasets\\test\\cat\\cat_29c.jpeg\n",
      "1/1 [==============================] - 0s 16ms/step\n",
      "cat F:\\Jupyter_Notebook\\AI_INTERNSHIP\\day12\\Code\\Code\\Datasets\\test\\cat\\cat_343.jpeg\n",
      "1/1 [==============================] - 0s 19ms/step\n",
      "cat F:\\Jupyter_Notebook\\AI_INTERNSHIP\\day12\\Code\\Code\\Datasets\\test\\cat\\cat_354.jpeg\n",
      "1/1 [==============================] - 0s 24ms/step\n",
      "cat F:\\Jupyter_Notebook\\AI_INTERNSHIP\\day12\\Code\\Code\\Datasets\\test\\cat\\cat_367.jpeg\n",
      "1/1 [==============================] - 0s 21ms/step\n",
      "cat F:\\Jupyter_Notebook\\AI_INTERNSHIP\\day12\\Code\\Code\\Datasets\\test\\cat\\cat_388.jpeg\n",
      "1/1 [==============================] - 0s 16ms/step\n",
      "cat F:\\Jupyter_Notebook\\AI_INTERNSHIP\\day12\\Code\\Code\\Datasets\\test\\cat\\cat_389.jpeg\n",
      "1/1 [==============================] - 0s 28ms/step\n",
      "cat F:\\Jupyter_Notebook\\AI_INTERNSHIP\\day12\\Code\\Code\\Datasets\\test\\cat\\cat_8.jpeg\n",
      "1/1 [==============================] - 0s 23ms/step\n",
      "fox F:\\Jupyter_Notebook\\AI_INTERNSHIP\\day12\\Code\\Code\\Datasets\\test\\fox\\fox_137.jpeg\n",
      "1/1 [==============================] - 0s 34ms/step\n",
      "cat F:\\Jupyter_Notebook\\AI_INTERNSHIP\\day12\\Code\\Code\\Datasets\\test\\fox\\fox_181.jpeg\n",
      "1/1 [==============================] - 0s 26ms/step\n",
      "fox F:\\Jupyter_Notebook\\AI_INTERNSHIP\\day12\\Code\\Code\\Datasets\\test\\fox\\fox_189.jpeg\n",
      "1/1 [==============================] - 0s 24ms/step\n",
      "fox F:\\Jupyter_Notebook\\AI_INTERNSHIP\\day12\\Code\\Code\\Datasets\\test\\fox\\fox_1e9.jpeg\n",
      "1/1 [==============================] - 0s 12ms/step\n",
      "fox F:\\Jupyter_Notebook\\AI_INTERNSHIP\\day12\\Code\\Code\\Datasets\\test\\fox\\fox_238.jpeg\n",
      "1/1 [==============================] - 0s 25ms/step\n",
      "fox F:\\Jupyter_Notebook\\AI_INTERNSHIP\\day12\\Code\\Code\\Datasets\\test\\fox\\fox_29f.jpeg\n",
      "1/1 [==============================] - 0s 29ms/step\n",
      "fox F:\\Jupyter_Notebook\\AI_INTERNSHIP\\day12\\Code\\Code\\Datasets\\test\\fox\\fox_38d.jpeg\n",
      "1/1 [==============================] - 0s 26ms/step\n",
      "fox F:\\Jupyter_Notebook\\AI_INTERNSHIP\\day12\\Code\\Code\\Datasets\\test\\fox\\fox_40.jpeg\n",
      "1/1 [==============================] - 0s 21ms/step\n",
      "fox F:\\Jupyter_Notebook\\AI_INTERNSHIP\\day12\\Code\\Code\\Datasets\\test\\fox\\fox_90.jpeg\n",
      "1/1 [==============================] - 0s 24ms/step\n",
      "fox F:\\Jupyter_Notebook\\AI_INTERNSHIP\\day12\\Code\\Code\\Datasets\\test\\fox\\fox_e1.jpeg\n"
     ]
    }
   ],
   "source": [
    "# Specify the path to the directory containing images\n",
    "path = 'F:\\\\Jupyter_Notebook\\\\AI_INTERNSHIP\\\\day12\\\\Code\\\\Code\\\\Datasets\\\\test'\n",
    "\n",
    "# List to store file paths\n",
    "files = []\n",
    "\n",
    "# r=root, d=directories, f=files\n",
    "for r, d, f in os.walk(path):\n",
    "    for file in f:\n",
    "        if '.jpeg' in file:\n",
    "            files.append(os.path.join(r, file))\n",
    "\n",
    "# Iterate through the list of image files\n",
    "for f in files:\n",
    "    # Call the classify function for each image file\n",
    "    classify(f)\n"
   ]
  },
  {
   "cell_type": "code",
   "execution_count": 12,
   "id": "ad19d2ab",
   "metadata": {},
   "outputs": [
    {
     "name": "stdout",
     "output_type": "stream",
     "text": [
      "1/1 [==============================] - 0s 16ms/step\n",
      "True class: cat, Predicted class: cat, Image path: F:\\Jupyter_Notebook\\AI_INTERNSHIP\\day12\\Code\\Code\\Datasets\\test\\cat\\cat_188.jpeg\n",
      "1/1 [==============================] - 0s 16ms/step\n",
      "True class: cat, Predicted class: cat, Image path: F:\\Jupyter_Notebook\\AI_INTERNSHIP\\day12\\Code\\Code\\Datasets\\test\\cat\\cat_1b5.jpeg\n",
      "1/1 [==============================] - 0s 21ms/step\n",
      "True class: cat, Predicted class: cat, Image path: F:\\Jupyter_Notebook\\AI_INTERNSHIP\\day12\\Code\\Code\\Datasets\\test\\cat\\cat_29c.jpeg\n",
      "1/1 [==============================] - 0s 8ms/step\n",
      "True class: cat, Predicted class: cat, Image path: F:\\Jupyter_Notebook\\AI_INTERNSHIP\\day12\\Code\\Code\\Datasets\\test\\cat\\cat_343.jpeg\n",
      "1/1 [==============================] - 0s 20ms/step\n",
      "True class: cat, Predicted class: cat, Image path: F:\\Jupyter_Notebook\\AI_INTERNSHIP\\day12\\Code\\Code\\Datasets\\test\\cat\\cat_354.jpeg\n",
      "1/1 [==============================] - 0s 21ms/step\n",
      "True class: cat, Predicted class: cat, Image path: F:\\Jupyter_Notebook\\AI_INTERNSHIP\\day12\\Code\\Code\\Datasets\\test\\cat\\cat_367.jpeg\n",
      "1/1 [==============================] - 0s 22ms/step\n",
      "True class: cat, Predicted class: cat, Image path: F:\\Jupyter_Notebook\\AI_INTERNSHIP\\day12\\Code\\Code\\Datasets\\test\\cat\\cat_388.jpeg\n",
      "1/1 [==============================] - 0s 16ms/step\n",
      "True class: cat, Predicted class: cat, Image path: F:\\Jupyter_Notebook\\AI_INTERNSHIP\\day12\\Code\\Code\\Datasets\\test\\cat\\cat_389.jpeg\n",
      "1/1 [==============================] - 0s 41ms/step\n",
      "True class: cat, Predicted class: cat, Image path: F:\\Jupyter_Notebook\\AI_INTERNSHIP\\day12\\Code\\Code\\Datasets\\test\\cat\\cat_8.jpeg\n",
      "1/1 [==============================] - 0s 23ms/step\n",
      "True class: fox, Predicted class: fox, Image path: F:\\Jupyter_Notebook\\AI_INTERNSHIP\\day12\\Code\\Code\\Datasets\\test\\fox\\fox_137.jpeg\n",
      "1/1 [==============================] - 0s 23ms/step\n",
      "True class: fox, Predicted class: cat, Image path: F:\\Jupyter_Notebook\\AI_INTERNSHIP\\day12\\Code\\Code\\Datasets\\test\\fox\\fox_181.jpeg\n",
      "1/1 [==============================] - 0s 25ms/step\n",
      "True class: fox, Predicted class: fox, Image path: F:\\Jupyter_Notebook\\AI_INTERNSHIP\\day12\\Code\\Code\\Datasets\\test\\fox\\fox_189.jpeg\n",
      "1/1 [==============================] - 0s 23ms/step\n",
      "True class: fox, Predicted class: fox, Image path: F:\\Jupyter_Notebook\\AI_INTERNSHIP\\day12\\Code\\Code\\Datasets\\test\\fox\\fox_1e9.jpeg\n",
      "1/1 [==============================] - 0s 26ms/step\n",
      "True class: fox, Predicted class: fox, Image path: F:\\Jupyter_Notebook\\AI_INTERNSHIP\\day12\\Code\\Code\\Datasets\\test\\fox\\fox_238.jpeg\n",
      "1/1 [==============================] - 0s 17ms/step\n",
      "True class: fox, Predicted class: fox, Image path: F:\\Jupyter_Notebook\\AI_INTERNSHIP\\day12\\Code\\Code\\Datasets\\test\\fox\\fox_29f.jpeg\n",
      "1/1 [==============================] - 0s 25ms/step\n",
      "True class: fox, Predicted class: fox, Image path: F:\\Jupyter_Notebook\\AI_INTERNSHIP\\day12\\Code\\Code\\Datasets\\test\\fox\\fox_38d.jpeg\n",
      "1/1 [==============================] - 0s 25ms/step\n",
      "True class: fox, Predicted class: fox, Image path: F:\\Jupyter_Notebook\\AI_INTERNSHIP\\day12\\Code\\Code\\Datasets\\test\\fox\\fox_40.jpeg\n",
      "1/1 [==============================] - 0s 26ms/step\n",
      "True class: fox, Predicted class: fox, Image path: F:\\Jupyter_Notebook\\AI_INTERNSHIP\\day12\\Code\\Code\\Datasets\\test\\fox\\fox_90.jpeg\n",
      "1/1 [==============================] - 0s 22ms/step\n",
      "True class: fox, Predicted class: fox, Image path: F:\\Jupyter_Notebook\\AI_INTERNSHIP\\day12\\Code\\Code\\Datasets\\test\\fox\\fox_e1.jpeg\n",
      "Confusion Matrix:\n",
      "[[9 0]\n",
      " [1 9]]\n",
      "Classification Report:\n",
      "              precision    recall  f1-score   support\n",
      "\n",
      "         cat       0.90      1.00      0.95         9\n",
      "         fox       1.00      0.90      0.95        10\n",
      "\n",
      "    accuracy                           0.95        19\n",
      "   macro avg       0.95      0.95      0.95        19\n",
      "weighted avg       0.95      0.95      0.95        19\n",
      "\n"
     ]
    }
   ],
   "source": [
    "from sklearn.metrics import confusion_matrix, classification_report\n",
    "\n",
    "# Assuming 'model' is already defined somewhere in your code\n",
    "\n",
    "# Lists to store true and predicted labels\n",
    "true_labels = []\n",
    "predicted_labels = []\n",
    "\n",
    "# Specify the path to the directory containing test images\n",
    "test_path = 'F:\\\\Jupyter_Notebook\\\\AI_INTERNSHIP\\\\day12\\\\Code\\\\Code\\\\Datasets\\\\test'\n",
    "\n",
    "# Iterate through subfolders\n",
    "for class_folder in os.listdir(test_path):\n",
    "    class_path = os.path.join(test_path, class_folder)\n",
    "    \n",
    "    # r=root, d=directories, f=files\n",
    "    for r, d, f in os.walk(class_path):\n",
    "        for file in f:\n",
    "            if '.jpeg' in file:\n",
    "                # Get the true class from the subfolder name\n",
    "                true_class = class_folder\n",
    "                true_labels.append(true_class)\n",
    "\n",
    "                # Call the classify function for each image file\n",
    "                img_path = os.path.join(r, file)\n",
    "                test_image = image.load_img(img_path, target_size=(64, 64))\n",
    "                test_image = image.img_to_array(test_image)\n",
    "                test_image = np.expand_dims(test_image, axis=0)\n",
    "                result = model.predict(test_image)\n",
    "\n",
    "                # Convert the predicted probability to a class label\n",
    "                predicted_class = 'fox' if result[0][0] == 1 else 'cat'\n",
    "                predicted_labels.append(predicted_class)\n",
    "\n",
    "                # Print the prediction\n",
    "                print(f\"True class: {true_class}, Predicted class: {predicted_class}, Image path: {img_path}\")\n",
    "\n",
    "# Create a confusion matrix\n",
    "conf_matrix = confusion_matrix(true_labels, predicted_labels)\n",
    "\n",
    "print(\"Confusion Matrix:\")\n",
    "print(conf_matrix)\n",
    "\n",
    "# Print classification report\n",
    "print(\"Classification Report:\")\n",
    "print(classification_report(true_labels, predicted_labels))\n",
    "\n"
   ]
  },
  {
   "cell_type": "code",
   "execution_count": 13,
   "id": "1958999f",
   "metadata": {},
   "outputs": [
    {
     "data": {
      "image/png": "[encoded data removed]",
      "text/plain": [
       "<Figure size 800x600 with 2 Axes>"
      ]
     },
     "metadata": {},
     "output_type": "display_data"
    },
    {
     "name": "stdout",
     "output_type": "stream",
     "text": [
      "Classification Report:\n",
      "              precision    recall  f1-score   support\n",
      "\n",
      "         cat       0.90      1.00      0.95         9\n",
      "         fox       1.00      0.90      0.95        10\n",
      "\n",
      "    accuracy                           0.95        19\n",
      "   macro avg       0.95      0.95      0.95        19\n",
      "weighted avg       0.95      0.95      0.95        19\n",
      "\n"
     ]
    }
   ],
   "source": [
    "from sklearn.metrics import confusion_matrix, classification_report\n",
    "import seaborn as sns\n",
    "import matplotlib.pyplot as plt\n",
    "\n",
    "# ... (previous code)\n",
    "\n",
    "# Create a confusion matrix\n",
    "conf_matrix = confusion_matrix(true_labels, predicted_labels)\n",
    "\n",
    "# Plot the confusion matrix using seaborn\n",
    "plt.figure(figsize=(8, 6))\n",
    "sns.heatmap(conf_matrix, annot=True, fmt='d', cmap='Blues', xticklabels=['cat', 'fox'], yticklabels=['cat', 'fox'])\n",
    "plt.title('Confusion Matrix')\n",
    "plt.xlabel('Predicted')\n",
    "plt.ylabel('True')\n",
    "plt.show()\n",
    "\n",
    "# Print classification report\n",
    "print(\"Classification Report:\")\n",
    "print(classification_report(true_labels, predicted_labels))\n"
   ]
  },
  {
   "cell_type": "code",
   "execution_count": null,
   "id": "fbace952",
   "metadata": {},
   "outputs": [],
   "source": []
  }
 ],
 "metadata": {
  "kernelspec": {
   "display_name": "Python 3 (ipykernel)",
   "language": "python",
   "name": "python3"
  },
  "language_info": {
   "codemirror_mode": {
    "name": "ipython",
    "version": 3
   },
   "file_extension": ".py",
   "mimetype": "text/x-python",
   "name": "python",
   "nbconvert_exporter": "python",
   "pygments_lexer": "ipython3",
   "version": "3.9.13"
  },
  "varInspector": {
   "cols": {
    "lenName": 16,
    "lenType": 16,
    "lenVar": 40
   },
   "kernels_config": {
    "python": {
     "delete_cmd_postfix": "",
     "delete_cmd_prefix": "del ",
     "library": "var_list.py",
     "varRefreshCmd": "print(var_dic_list())"
    },
    "r": {
     "delete_cmd_postfix": ") ",
     "delete_cmd_prefix": "rm(",
     "library": "var_list.r",
     "varRefreshCmd": "cat(var_dic_list()) "
    }
   },
   "types_to_exclude": [
    "module",
    "function",
    "builtin_function_or_method",
    "instance",
    "_Feature"
   ],
   "window_display": false
  }
 },
 "nbformat": 4,
 "nbformat_minor": 5
}
